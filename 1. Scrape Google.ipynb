{
 "cells": [
  {
   "cell_type": "markdown",
   "metadata": {},
   "source": [
    "# --- Scrape Google Forever  ---\n",
    "                             Or till you go bankrupt, which ever is earlier.\n",
    "\n"
   ]
  },
  {
   "cell_type": "markdown",
   "metadata": {},
   "source": [
    "<em> This is the first part of the series and I honestly don't know when it's going to be over. But these parts will work independent from the rest of the series. Let's hope. </em>"
   ]
  },
  {
   "cell_type": "markdown",
   "metadata": {},
   "source": [
    "<h4 style=\"font-weight: normal\">You start writing a code to scrape google, the first thing you need is a piece of code that can scrape a google. That's pretty basic and that's what you do</h3>"
   ]
  },
  {
   "cell_type": "markdown",
   "metadata": {},
   "source": [
    "<h2 style=\"font-weight: normal\">El Scraper</h2>\n"
   ]
  },
  {
   "cell_type": "code",
   "execution_count": 1,
   "metadata": {},
   "outputs": [],
   "source": [
    "# Add basic repos\n",
    "import requests\n",
    "import urllib\n",
    "#import pandas as pd\n",
    "from requests_html import HTML\n",
    "from requests_html import HTMLSession"
   ]
  },
  {
   "cell_type": "code",
   "execution_count": 2,
   "metadata": {},
   "outputs": [],
   "source": [
    "# Get the source code given a url\n",
    "def get_source(url):\n",
    "    # Given a url it's gonna give you the source code\n",
    "    \n",
    "    try:\n",
    "        session = HTMLSession()\n",
    "        response = session.get(url)\n",
    "        return response\n",
    "    \n",
    "    except requests.exceptions.RequestException as e:\n",
    "        print(e)"
   ]
  },
  {
   "cell_type": "code",
   "execution_count": 3,
   "metadata": {},
   "outputs": [],
   "source": [
    "# Parse the query. We are gonna create the queries to be parsed later\n",
    "def get_results(query):\n",
    "    # When you give a query as the input it returns the sourcecode as response\n",
    "    query = urllib.parse.quote_plus(query)\n",
    "    response = get_source(\"https://www.google.com/search?q=\" + query)\n",
    "    return response"
   ]
  },
  {
   "cell_type": "code",
   "execution_count": 4,
   "metadata": {},
   "outputs": [],
   "source": [
    "# There is gonna be a lot of noice in it. We are gonna need only link, title and text.\n",
    "def parse_results(response):\n",
    "    if not response:\n",
    "        return {}\n",
    "    \n",
    "    css_identifier_result = \".tF2Cxc\"\n",
    "    css_identifier_title = \"h3\"\n",
    "    css_identifier_link = \".yuRUbf a\"\n",
    "    css_identifier_text = \".IsZvec\"\n",
    "    \n",
    "    results = response.html.find(css_identifier_result)\n",
    "\n",
    "    output = []\n",
    "    \n",
    "    for result in results:\n",
    "        title = result.find(css_identifier_title, first=True)\n",
    "        title  = title.text if title is not None else \"\"\n",
    "        link = result.find(css_identifier_link, first=True)\n",
    "        link = link.attrs['href'] if link is not None else \"\"\n",
    "        text = result.find(css_identifier_text, first=True)\n",
    "        text = text.text if text is not None else \"\"\n",
    "\n",
    "        item = {\n",
    "            \"title\": title,\n",
    "            \"link\": link,\n",
    "            \"text\": text\n",
    "        }\n",
    "        \n",
    "        output.append(item)\n",
    "        \n",
    "    return output"
   ]
  },
  {
   "cell_type": "code",
   "execution_count": 5,
   "metadata": {},
   "outputs": [],
   "source": [
    "# Gonna wrap this all nicely\n",
    "def google_search(query):\n",
    "    response = get_results(query)\n",
    "    return parse_results(response)\n",
    "\n",
    "# And we can test it now"
   ]
  },
  {
   "cell_type": "code",
   "execution_count": 6,
   "metadata": {},
   "outputs": [],
   "source": [
    "# Most of it has empty text. We are gonna change that hopefully\n",
    "results = google_search(\"Python web scraping tutorial\")\n"
   ]
  },
  {
   "cell_type": "code",
   "execution_count": 7,
   "metadata": {},
   "outputs": [
    {
     "ename": "NameError",
     "evalue": "name 'json' is not defined",
     "output_type": "error",
     "traceback": [
      "\u001b[0;31m---------------------------------------------------------------------------\u001b[0m",
      "\u001b[0;31mNameError\u001b[0m                                 Traceback (most recent call last)",
      "\u001b[0;32m<ipython-input-7-9b49e88b2156>\u001b[0m in \u001b[0;36m<module>\u001b[0;34m\u001b[0m\n\u001b[0;32m----> 1\u001b[0;31m \u001b[0mjson\u001b[0m\u001b[0;34m.\u001b[0m\u001b[0mdumps\u001b[0m\u001b[0;34m(\u001b[0m\u001b[0mresults\u001b[0m\u001b[0;34m)\u001b[0m\u001b[0;34m\u001b[0m\u001b[0;34m\u001b[0m\u001b[0m\n\u001b[0m",
      "\u001b[0;31mNameError\u001b[0m: name 'json' is not defined"
     ]
    }
   ],
   "source": [
    "json.dumps(results)"
   ]
  },
  {
   "cell_type": "markdown",
   "metadata": {},
   "source": [
    "Now that's done you are gonna start scraping the google. Or so you would think ...."
   ]
  },
  {
   "cell_type": "markdown",
   "metadata": {},
   "source": [
    "<h3 style=\"font-weight: normal\"> What about search keyword?</h1>"
   ]
  },
  {
   "cell_type": "markdown",
   "metadata": {},
   "source": [
    "Are you gonna use the same keyword over an over again? <br>\n",
    "We are gonna search google forever. You are not gonna manually write keywords forever. So you randomly generate keywords. Let's see if we have got any libraries in python for that. You wanna say hi to Google Dot Com. "
   ]
  },
  {
   "cell_type": "markdown",
   "metadata": {},
   "source": [
    "<h2 style=\"font-weight: normal\">El Essential Generator</h2>\n"
   ]
  },
  {
   "cell_type": "markdown",
   "metadata": {},
   "source": [
    "Luckily there is a in-built generator that you can use. (Actually there are many generators out there, I just picked the first one I found)"
   ]
  },
  {
   "cell_type": "code",
   "execution_count": 19,
   "metadata": {
    "scrolled": false
   },
   "outputs": [
    {
     "name": "stdout",
     "output_type": "stream",
     "text": [
      "Requirement already satisfied: essential-generators in /Users/jo/opt/anaconda3/lib/python3.8/site-packages (1.0)\r\n"
     ]
    }
   ],
   "source": [
    "# You install it first cause probably you don't have it\n",
    "!pip install essential-generators\n"
   ]
  },
  {
   "cell_type": "code",
   "execution_count": 20,
   "metadata": {},
   "outputs": [
    {
     "name": "stdout",
     "output_type": "stream",
     "text": [
      "Is required; whether physical, mental, and social updates. This has.\n"
     ]
    }
   ],
   "source": [
    "from essential_generators import DocumentGenerator\n",
    "gen = DocumentGenerator()\n",
    "print(gen.sentence())"
   ]
  },
  {
   "cell_type": "markdown",
   "metadata": {},
   "source": [
    "Now you can give this result to the google scraper"
   ]
  },
  {
   "cell_type": "code",
   "execution_count": 21,
   "metadata": {},
   "outputs": [
    {
     "data": {
      "text/plain": [
       "[{'title': 'GFBiochemicals',\n",
       "  'link': 'http://www.gfbiochemicals.com/',\n",
       "  'text': ''},\n",
       " {'title': 'Casino Stats: Why Gamblers Rarely Win - Investopedia',\n",
       "  'link': 'https://www.investopedia.com/financial-edge/0910/casino-stats-why-gamblers-rarely-win.aspx',\n",
       "  'text': ''},\n",
       " {'title': 'online casino | Blogroll Center',\n",
       "  'link': 'https://www.blogrollcenter.com/?s=online%20casino',\n",
       "  'text': ''},\n",
       " {'title': 'Steve Wilson - EarthSafe Chemical Alternatives - LinkedIn',\n",
       "  'link': 'https://www.linkedin.com/in/steve-wilson25',\n",
       "  'text': ''},\n",
       " {'title': 'Satellite casino issue continues to dominate gaming law ...',\n",
       "  'link': 'https://www.macaubusiness.com/satellite-casino-issue-continues-to-dominate-gaming-law-amendment-committee-discussion/',\n",
       "  'text': ''},\n",
       " {'title': 'Career Center - Recruitment',\n",
       "  'link': 'https://workforcenow.adp.com/mascsr/default/mdf/recruitment/recruitment.html?cid=e62e4b89-7015-4b21-a493-598058bcca97&ccId=2586216661_766&lang=en_US',\n",
       "  'text': ''},\n",
       " {'title': 'Official Gazette of the United States Patent and Trademark ...',\n",
       "  'link': 'https://books.google.co.in/books?id=wFobAQAAMAAJ&pg=RA1-PA70&lpg=RA1-PA70&dq=A+casin%C3%B2.+chemical+substitute&source=bl&ots=mPrRzUhLOr&sig=ACfU3U2RKfo2ZtySh19KbwU1Cf-Z9lWs-A&hl=en&sa=X&ved=2ahUKEwjIwbS79IH2AhWoyTgGHbKWC-QQ6AF6BAgqEAM',\n",
       "  'text': '2003 · \\u200eTrademarks\\nCLASS 1 - CHEMICALS FOR CHEMICAL PREPARATIONS USED IN SCIENCE FOR , OR IN ... GAME TABLES ; GAMING TABLES ; CASINO EQUIPMENT , NAMELY ROULETTE TABLES AND\\xa0...'},\n",
       " {'title': 'NIOSH Publications Catalog - Page 535 - Google Books result',\n",
       "  'link': 'https://books.google.co.in/books?id=6NRRAQAAMAAJ&pg=PA535&lpg=PA535&dq=A+casin%C3%B2.+chemical+substitute&source=bl&ots=cpf6wMfbNd&sig=ACfU3U2_FIgnfW3_F1avMN3_BHnYWdTu4Q&hl=en&sa=X&ved=2ahUKEwjIwbS79IH2AhWoyTgGHbKWC-QQ6AF6BAgsEAM',\n",
       "  'text': 'National Institute for Occupational Safety and Health · 1987\\nChemical Co. , Port Neches , TX . , April 2 , 1976 POTTERY ... Reports 82-365-1282 HETA - MGM Grand Hotel and Casino , Las Vegas , NV . , March 1983 .'},\n",
       " {'title': 'Clinical Work with Substance-Abusing Clients, Third Edition',\n",
       "  'link': 'https://books.google.co.in/books?id=9m_pCgAAQBAJ&pg=PA230&lpg=PA230&dq=A+casin%C3%B2.+chemical+substitute&source=bl&ots=rTgtaCUnci&sig=ACfU3U0g2c_ED_0koiv8-IXY8dDPJtLiyA&hl=en&sa=X&ved=2ahUKEwjIwbS79IH2AhWoyTgGHbKWC-QQ6AF6BAgrEAM',\n",
       "  'text': 'Shulamith Lala Ashenberg Straussner · 2013 · \\u200ePsychology\\nWhen Mary began to gamble and drink at casinos, she did so with a group of ... into compensatory strategies used as substitutes for effective coping skills.'},\n",
       " {'title': 'Decisions and Orders of the National Labor Relations Board',\n",
       "  'link': 'https://books.google.co.in/books?id=WS50OzEJOO4C&pg=PA1243&lpg=PA1243&dq=A+casin%C3%B2.+chemical+substitute&source=bl&ots=qhRuF4qpkr&sig=ACfU3U3-JQMVr6jg6EJTyJOE7NXrqbjTOA&hl=en&sa=X&ved=2ahUKEwjIwbS79IH2AhWoyTgGHbKWC-QQ6AF6BAgtEAM',\n",
       "  'text': \"United States. National Labor Relations Board · 2001 · \\u200eLabor laws and legislation\\n... the Act . Harrah's Marina Hotel & Casino , supra ; A - 1 King Size Sandwiches , Inc. , 265 NLRB 850 ( 1982 ) ; Reichold Chemicals , supra ; NLRB v .\"}]"
      ]
     },
     "execution_count": 21,
     "metadata": {},
     "output_type": "execute_result"
    }
   ],
   "source": [
    "# Now you can give this result to the google scraper\n",
    "google_search(\"A casinò. chemical substitute\")"
   ]
  },
  {
   "cell_type": "markdown",
   "metadata": {},
   "source": [
    "<h3 style=\"font-weight: normal\"> Google has a say about everything. Almost.</h3>\n",
    "<br> Let's wrap this baby real nice.\n"
   ]
  },
  {
   "cell_type": "code",
   "execution_count": 22,
   "metadata": {},
   "outputs": [],
   "source": [
    "def fetch_google_results():\n",
    "    gen = DocumentGenerator()\n",
    "    key = gen.sentence()\n",
    "    return google_search(key)"
   ]
  },
  {
   "cell_type": "code",
   "execution_count": 23,
   "metadata": {},
   "outputs": [
    {
     "data": {
      "text/plain": [
       "[{'title': 'Chapter 8 Encounters with the Past in: Matsuri and Religion',\n",
       "  'link': 'https://brill.com/view/book/9789004466548/BP000008.xml',\n",
       "  'text': ''},\n",
       " {'title': 'Lantern Festival | Definition, History, Traditions, & Facts',\n",
       "  'link': 'https://www.britannica.com/topic/Lantern-Festival',\n",
       "  'text': ''},\n",
       " {'title': 'Cold Food, Fire and Ancestral Production: Mid-spring ...',\n",
       "  'link': 'https://www.cambridge.org/core/journals/journal-of-the-royal-asiatic-society/article/cold-food-fire-and-ancestral-production-midspring-celebrations-in-central-china/56B7613B7A097CAC24679FBBBE7AB508',\n",
       "  'text': ''},\n",
       " {'title': 'The Hungry Ghost Festival in Singapore: Getai (Songs ... - MDPI',\n",
       "  'link': 'https://www.mdpi.com/2077-1444/11/7/356/htm',\n",
       "  'text': ''}]"
      ]
     },
     "execution_count": 23,
     "metadata": {},
     "output_type": "execute_result"
    }
   ],
   "source": [
    "fetch_google_results()"
   ]
  },
  {
   "cell_type": "markdown",
   "metadata": {},
   "source": [
    "I think we can wrap more things in it. Let's see. We can save the results to a file."
   ]
  },
  {
   "cell_type": "markdown",
   "metadata": {},
   "source": [
    "<h3 style=\"font-weight: normal\"> Google has a say about everything. Almost.</h3> <br>\n",
    "Now we are not just gonna print the result. We need to save it somewhere in some format. We can do anything here. Got to a sql or nosql database. Just store as a csv or a json. Let's do json. The result is a dict anyway."
   ]
  },
  {
   "cell_type": "code",
   "execution_count": 24,
   "metadata": {},
   "outputs": [],
   "source": [
    "import json\n",
    "def fetch_google_results():\n",
    "    gen = DocumentGenerator()\n",
    "    key = gen.sentence()\n",
    "    result_dict = google_search(key)\n",
    "    json_object = json.dumps(result_dict) \n",
    "    return json_object"
   ]
  },
  {
   "cell_type": "code",
   "execution_count": 25,
   "metadata": {
    "scrolled": true
   },
   "outputs": [
    {
     "data": {
      "text/plain": [
       "'[{\"title\": \"excretion - Types of waste: metabolic and nonmetabolic\", \"link\": \"https://www.britannica.com/science/excretion/Types-of-waste-metabolic-and-nonmetabolic\", \"text\": \"\"}, {\"title\": \"1. Composting process and techniques - Food and Agriculture ...\", \"link\": \"https://www.fao.org/3/y5104e/y5104e05.htm\", \"text\": \"\"}, {\"title\": \"Cellular respiration review (article) | Khan Academy\", \"link\": \"https://www.khanacademy.org/science/in-in-class-11-biology-india/x9d1157914247c627:respiration-in-plants/x9d1157914247c627:fermentation-and-the-amphibolic-pathway/a/hs-cellular-respiration-review\", \"text\": \"\"}, {\"title\": \"Nitrogen Metabolism and Excretion - ResearchGate\", \"link\": \"https://www.researchgate.net/publication/222004357_Nitrogen_Metabolism_and_Excretion\", \"text\": \"\"}, {\"title\": \"Nitrogenous Wastes | Boundless Biology - Lumen Learning\", \"link\": \"https://courses.lumenlearning.com/boundless-biology/chapter/nitrogenous-wastes/\", \"text\": \"\"}, {\"title\": \"Basics of Wastewater Treatment - Barnstable County ...\", \"link\": \"https://www.barnstablecountyhealth.org/resources/publications/compendium-of-information-on-alternative-onsite-septic-system-technology/basics-of-wastewater-treatment\", \"text\": \"\"}, {\"title\": \"Metabolic waste - Wikipedia\", \"link\": \"https://en.wikipedia.org/wiki/Metabolic_waste\", \"text\": \"\"}, {\"title\": \"jeep1an.pdf - NCERT\", \"link\": \"https://ncert.nic.in/pdf/publication/exemplarproblem/classX/science/jeep1an.pdf\", \"text\": \"07-May-2018 \\\\u2014 End products are lactic acid or ethanol and carbon dioxide. 4. Less energy is released. 1. Oxygen is utilised for the breakdown of respiratory.\\\\n62 pages\"}]'"
      ]
     },
     "execution_count": 25,
     "metadata": {},
     "output_type": "execute_result"
    }
   ],
   "source": [
    "s = fetch_google_results()\n",
    "s"
   ]
  },
  {
   "cell_type": "markdown",
   "metadata": {},
   "source": [
    "<h3 style=\"font-weight: normal\"> Where you wanna store it?</h3> <br>\n",
    "Let's save it as a json file"
   ]
  },
  {
   "cell_type": "code",
   "execution_count": 26,
   "metadata": {},
   "outputs": [],
   "source": [
    "import json\n",
    "def save_google_results_as_json():\n",
    "    gen = DocumentGenerator()\n",
    "    key = gen.sentence()\n",
    "    result_dict = google_search(key)\n",
    "    filename = key + \".json\"\n",
    "    with open(filename, \"w\") as json_saver:\n",
    "        json.dump(result_dict, json_saver, indent=4, sort_keys=True)\n",
    "        # we are gonna save the pretty print version of json using the indent =4 param even though no human will \n",
    "        # read it eventually"
   ]
  },
  {
   "cell_type": "markdown",
   "metadata": {},
   "source": [
    " Let's test it"
   ]
  },
  {
   "cell_type": "code",
   "execution_count": 27,
   "metadata": {},
   "outputs": [],
   "source": [
    "save_google_results_as_json()"
   ]
  },
  {
   "cell_type": "markdown",
   "metadata": {},
   "source": [
    "I have a beautiful json in the current folder named \"Hosted UEFA however, coincided with many of the Isthmus of Suez and.json\". We are gonna royally ignore the keywords Essential generator generates for now. It's doing what we asked of it."
   ]
  },
  {
   "cell_type": "markdown",
   "metadata": {},
   "source": [
    "<h3 style=\"font-weight: normal\"> Now we just need to keep doing it. Easy peasy Japaneasy!</h3> <br>\n"
   ]
  },
  {
   "cell_type": "markdown",
   "metadata": {},
   "source": [
    "<h1 style=\"font-weight: normal\"> \"Let's scrape google forever\" </h1> <br>                             \n",
    "<pre>                                             he said.</pre>\n"
   ]
  },
  {
   "cell_type": "code",
   "execution_count": null,
   "metadata": {},
   "outputs": [],
   "source": [
    "while True:\n",
    "    # That's an infinite loop right there in it's raw form. Don't do this unless you know for sure your code won't run\n",
    "    save_google_results_as_json()"
   ]
  },
  {
   "cell_type": "code",
   "execution_count": null,
   "metadata": {},
   "outputs": [],
   "source": [
    "# That is a stupid file name. Let's correct those"
   ]
  },
  {
   "cell_type": "code",
   "execution_count": null,
   "metadata": {},
   "outputs": [],
   "source": [
    "# Special mention : https://github.com/django/django/blob/main/django/utils/text.py\n",
    "import re\n",
    "def get_valid_filename(s):\n",
    "    s = str(s).strip().replace(' ', '_')\n",
    "    return re.sub(r'(?u)[^-\\w.]', '', s)"
   ]
  },
  {
   "cell_type": "code",
   "execution_count": null,
   "metadata": {},
   "outputs": [],
   "source": [
    "import json\n",
    "def save_google_results_as_json():\n",
    "    gen = DocumentGenerator()\n",
    "    key = gen.sentence()\n",
    "    result_dict = google_search(key)\n",
    "    filename = \"Scraped/\" + get_valid_filename(key[:40]) + \".json\"\n",
    "    with open(filename, \"w\") as json_saver:\n",
    "        json.dump(result_dict, json_saver, indent=4, sort_keys=True)\n",
    "        # we are gonna save the pretty print version of json using the indent =4 param even though no human will \n",
    "        # read it eventually"
   ]
  },
  {
   "cell_type": "markdown",
   "metadata": {},
   "source": [
    "<h1 style=\"font-weight: normal\"> \"Let's scrape google forever\" </h1> <br>                             \n",
    "<pre>                                             he said again.</pre>\n"
   ]
  },
  {
   "cell_type": "code",
   "execution_count": null,
   "metadata": {},
   "outputs": [],
   "source": [
    "while True:\n",
    "    # That's an infinite loop right there in it's raw form. Don't do this unless you know for sure your code won't run\n",
    "    save_google_results_as_json()"
   ]
  },
  {
   "cell_type": "markdown",
   "metadata": {},
   "source": [
    "<h3 style=\"font-weight: normal\"> I had to interupt.</h3> <br>            \n",
    "<pre>                     We got couple of 'Max retries exceeded with url plus this is slow. We could use threads but  we will still get Max tries succeeded error this time only sooner.\n"
   ]
  },
  {
   "cell_type": "code",
   "execution_count": null,
   "metadata": {},
   "outputs": [],
   "source": []
  }
 ],
 "metadata": {
  "kernelspec": {
   "display_name": "Python 3",
   "language": "python",
   "name": "python3"
  },
  "language_info": {
   "codemirror_mode": {
    "name": "ipython",
    "version": 3
   },
   "file_extension": ".py",
   "mimetype": "text/x-python",
   "name": "python",
   "nbconvert_exporter": "python",
   "pygments_lexer": "ipython3",
   "version": "3.8.3"
  }
 },
 "nbformat": 4,
 "nbformat_minor": 4
}
